{
  "cells": [
    {
      "cell_type": "code",
      "execution_count": null,
      "metadata": {
        "collapsed": false
      },
      "outputs": [],
      "source": [
        "%matplotlib widget"
      ]
    },
    {
      "cell_type": "markdown",
      "metadata": {},
      "source": [
        "\n# Linear and non-linear ESMDA examples\n\nA basic example of ESMDA using a simple 1D equation.\n\nGeir Evensen gave a talk on *Properties of Iterative Ensemble Smoothers and\nStrategies for Conditioning on Production Data* at the IPAM in May 2017.\n\nHere we reproduce the examples he showed on pages 34 and 38. The material can\nbe found at:\n\n- PDF: http://helper.ipam.ucla.edu/publications/oilws3/oilws3_14079.pdf\n- Video can be found here:\n  https://www.ipam.ucla.edu/programs/workshops/workshop-iii-data-assimilation-uncertainty-reduction-and-optimization-for-subsurface-flow/?tab=schedule\n\nGeir gives the ESMDA equations as\n\n\\begin{align}x_{j,i+1} &= x_{j,i} + (C^e_{xy})_i \\left((C^e_{yy})_i +\n                 \\alpha_iC^e_{dd}\\right)^{-1} \\left(d + \\sqrt{\\alpha_i}\n                 \\varepsilon_j - g(x_{j,i})\\right) \\ , \\\\\n    y_{j,i+1} &= g(x_{j,i+1}) \\ .\\end{align}\n\nThe model used for this example is\n\n\\begin{align}y = x(1+\\beta x^2) \\ ,\\end{align}\n\nwhich is a linear model if $\\beta=0$.\n"
      ]
    },
    {
      "cell_type": "code",
      "execution_count": null,
      "metadata": {
        "collapsed": false
      },
      "outputs": [],
      "source": [
        "import numpy as np\nimport matplotlib.pyplot as plt\n\nimport dageo"
      ]
    },
    {
      "cell_type": "markdown",
      "metadata": {},
      "source": [
        "## Forward model\n\n"
      ]
    },
    {
      "cell_type": "code",
      "execution_count": null,
      "metadata": {
        "collapsed": false
      },
      "outputs": [],
      "source": [
        "def forward(x, beta):\n    \"\"\"Simple model: y = x (1 + \u03b2 x\u00b2) (linear if beta=0).\"\"\"\n    return np.atleast_1d(x * (1 + beta * x**2))\n\n\nfig, axs = plt.subplots(\n        1, 2, figsize=(8, 3), sharex=True, constrained_layout=True)\nfig.suptitle(\"Forward Model:  y = x (1 + \u03b2 x\u00b2)\")\npx = np.linspace(-5, 5, 301)\nfor i, b in enumerate([0.0, 0.2]):\n    axs[i].set_title(\n            f\"{['Linear model', 'Nonlinear model'][i]}: \u03b2 = {b}\")\n    axs[i].plot(px, forward(px, b))\n    axs[i].set_xlabel('x')\n    axs[i].set_ylabel('y')"
      ]
    },
    {
      "cell_type": "markdown",
      "metadata": {},
      "source": [
        "## Plotting functions\n\n"
      ]
    },
    {
      "cell_type": "code",
      "execution_count": null,
      "metadata": {
        "collapsed": false
      },
      "outputs": [],
      "source": [
        "def pseudopdf(data, bins=200, density=True, **kwargs):\n    \"\"\"Return the pdf from a simple bin count.\n\n    If the data contains a lot of samples, this should be \"smooth\" enough - and\n    much faster than estimating the pdf using, e.g.,\n    `scipy.stats.gaussian_kde`.\n    \"\"\"\n    x, y = np.histogram(data, bins=bins, density=density, **kwargs)\n    return (y[:-1]+y[1:])/2, x\n\n\ndef plot_result(mpost, dpost, dobs, title, ylim):\n    \"\"\"Wrapper to use the same plotting for the linear and non-linear case.\"\"\"\n\n    fig, (ax1, ax2) = plt.subplots(\n            1, 2, figsize=(10, 4), sharey=True, constrained_layout=True)\n    fig.suptitle(title)\n\n    # Plot Likelihood\n    ax2.plot(\n        *pseudopdf(dageo.rng.normal(dobs, size=(ne, dobs.size))),\n        'C2', lw=2, label='Datum'\n    )\n\n    # Plot steps\n    na = mpost.shape[0]-1\n    for i in range(na+1):\n        params = {\n            'color': 'C0' if i == na else 'C3',    # Last blue, rest red\n            'lw': 2 if i in [0, na] else 1,        # First/last thick\n            'alpha': 1 if i in [0, na] else i/na,  # start faint\n            'label': ['Initial', *((na-2)*('',)), 'MDA steps', 'MDA'][i],\n        }\n        ax1.plot(*pseudopdf(mpost[i, :, 0], range=(-3, 5)), **params)\n        ax2.plot(*pseudopdf(dpost[i, :, 0], range=(-5, 8)), **params)\n\n    # Axis and labels\n    ax1.set_title('Model Parameter Domain')\n    ax1.set_xlabel('x')\n    ax1.set_ylim(ylim)\n    ax1.set_xlim([-3, 5])\n    ax1.legend()\n    ax2.set_title('Data Domain')\n    ax2.set_xlabel('y')\n    ax2.set_xlim([-5, 8])\n    ax2.legend()"
      ]
    },
    {
      "cell_type": "markdown",
      "metadata": {},
      "source": [
        "## Linear case\n\n### Prior model parameters and ESMDA parameters\n\nIn reality, the prior would be $j$ models provided by, e.g., the\ngeologists. Here we create $j$ realizations using a normal distribution of a\ndefined mean and standard deviation.\n\n"
      ]
    },
    {
      "cell_type": "code",
      "execution_count": null,
      "metadata": {
        "collapsed": false
      },
      "outputs": [],
      "source": [
        "# Point of our \"observation\"\nxlocation = -1.0\n\n# Ensemble size\nne = int(1e7)\n\n# Data standard deviation: ones (for this scenario)\nobs_std = 1.0\n\n# Prior: Let's start with ones as our prior guess\nmprior = dageo.rng.normal(loc=1.0, scale=obs_std, size=(ne, 1))"
      ]
    },
    {
      "cell_type": "markdown",
      "metadata": {},
      "source": [
        "### Run ESMDA and plot\n\n"
      ]
    },
    {
      "cell_type": "code",
      "execution_count": null,
      "metadata": {
        "collapsed": false
      },
      "outputs": [],
      "source": [
        "def lin_fwd(x):\n    \"\"\"Linear forward model.\"\"\"\n    return forward(x, beta=0.0)\n\n\n# Sample an \"observation\".\nl_dobs = lin_fwd(xlocation)\n\nlm_post, ld_post = dageo.esmda(\n    model_prior=mprior,\n    forward=lin_fwd,\n    data_obs=l_dobs,\n    sigma=obs_std,\n    alphas=10,\n    return_steps=True,  # To get intermediate results\n)"
      ]
    },
    {
      "cell_type": "code",
      "execution_count": null,
      "metadata": {
        "collapsed": false
      },
      "outputs": [],
      "source": [
        "plot_result(lm_post, ld_post, l_dobs, title='Linear Case', ylim=[0, 0.6])"
      ]
    },
    {
      "cell_type": "markdown",
      "metadata": {},
      "source": [
        "### Original figure from Geir's presentation\n\n<img src=\"file://../_static/figures/Geir-IrisTalk-2017-34.png\">\n\n"
      ]
    },
    {
      "cell_type": "markdown",
      "metadata": {},
      "source": [
        "## Nonlinear case\n\n"
      ]
    },
    {
      "cell_type": "code",
      "execution_count": null,
      "metadata": {
        "collapsed": false
      },
      "outputs": [],
      "source": [
        "def nonlin_fwd(x):\n    \"\"\"Nonlinear forward model.\"\"\"\n    return forward(x, beta=0.2)\n\n\n# Sample a nonlinear observation; the rest of the parameters remains the same.\nn_dobs = nonlin_fwd(xlocation)\nnm_post, nd_post = dageo.esmda(\n    model_prior=mprior,\n    forward=nonlin_fwd,\n    data_obs=n_dobs,\n    sigma=obs_std,\n    alphas=10,\n    return_steps=True,\n)"
      ]
    },
    {
      "cell_type": "code",
      "execution_count": null,
      "metadata": {
        "collapsed": false
      },
      "outputs": [],
      "source": [
        "plot_result(nm_post, nd_post, n_dobs, title='Nonlinear Case', ylim=[0, 0.7])"
      ]
    },
    {
      "cell_type": "markdown",
      "metadata": {},
      "source": [
        "### Original figure from Geir's presentation\n\n<img src=\"file://../_static/figures/Geir-IrisTalk-2017-38.png\">\n\n"
      ]
    },
    {
      "cell_type": "code",
      "execution_count": null,
      "metadata": {
        "collapsed": false
      },
      "outputs": [],
      "source": [
        "dageo.Report()"
      ]
    }
  ],
  "metadata": {
    "kernelspec": {
      "display_name": "Python 3",
      "language": "python",
      "name": "python3"
    },
    "language_info": {
      "codemirror_mode": {
        "name": "ipython",
        "version": 3
      },
      "file_extension": ".py",
      "mimetype": "text/x-python",
      "name": "python",
      "nbconvert_exporter": "python",
      "pygments_lexer": "ipython3",
      "version": "3.12.9"
    }
  },
  "nbformat": 4,
  "nbformat_minor": 0
}