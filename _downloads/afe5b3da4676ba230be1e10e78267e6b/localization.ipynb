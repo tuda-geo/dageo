{
  "cells": [
    {
      "cell_type": "code",
      "execution_count": null,
      "metadata": {
        "collapsed": false
      },
      "outputs": [],
      "source": [
        "%matplotlib widget"
      ]
    },
    {
      "cell_type": "markdown",
      "metadata": {},
      "source": [
        "\n# Localization\n\nExample using several well doublets and compares ESMDA with and without\nlocalization.\n\nThe example follows contextually `sphx_glr_gallery_basicreservoir.py`.\n"
      ]
    },
    {
      "cell_type": "code",
      "execution_count": null,
      "metadata": {
        "collapsed": false
      },
      "outputs": [],
      "source": [
        "import numpy as np\nimport matplotlib.pyplot as plt\n\nimport dageo\n\n# For reproducibility, we instantiate a random number generator with a fixed\n# seed. For production, remove the seed!\nrng = np.random.default_rng(2020)"
      ]
    },
    {
      "cell_type": "markdown",
      "metadata": {},
      "source": [
        "## Model parameters\n\n"
      ]
    },
    {
      "cell_type": "code",
      "execution_count": null,
      "metadata": {
        "collapsed": false
      },
      "outputs": [],
      "source": [
        "# Grid extension\nnx = 35\nny = 30\nnc = nx*ny\n\n# Permeabilities\nperm_mean = 3.0\nperm_min = 0.5\nperm_max = 5.0\n\n# ESMDA parameters\nne = 100                  # Number of ensembles\ndt = np.zeros(10)+0.0001  # Time steps (could be irregular, e.g., increasing!)\ntime = np.r_[0, np.cumsum(dt)]\n\n# Assumed sandard deviation of our data\ndstd = 0.5\n\n# Measurement points\nox = (5, 15, 24)\noy = (5, 10, 24)\n\n# Number of data points\nnd = time.size * len(ox)\n\n# Wells\nwells = np.array([\n    [ox[0], oy[0], 180], [5, 12, 120],\n    [ox[1], oy[1], 180], [20, 5, 120],\n    [ox[2], oy[2], 180], [24, 17, 120]\n])"
      ]
    },
    {
      "cell_type": "markdown",
      "metadata": {},
      "source": [
        "## Create permeability maps for ESMDA\n\nWe will create a set of permeability maps that will serve as our initial\nguess (prior). These maps are generated using a Gaussian random field and are\nconstrained by certain statistical properties.\n\n"
      ]
    },
    {
      "cell_type": "code",
      "execution_count": null,
      "metadata": {
        "collapsed": false
      },
      "outputs": [],
      "source": [
        "# Get the model and ne prior models\nRP = dageo.RandomPermeability(nx, ny, perm_mean, perm_min, perm_max)\nperm_true = RP(1, random=rng)\nperm_prior = RP(ne, random=rng)"
      ]
    },
    {
      "cell_type": "markdown",
      "metadata": {},
      "source": [
        "## Run the prior models and the reference case\n\n"
      ]
    },
    {
      "cell_type": "code",
      "execution_count": null,
      "metadata": {
        "collapsed": false
      },
      "outputs": [],
      "source": [
        "# Instantiate reservoir simulator\nRS = dageo.Simulator(nx, ny, wells=wells)\n\n\ndef sim(x):\n    \"\"\"Custom fct to use exp(x), and specific dt & location.\"\"\"\n    return RS(np.exp(x), dt=dt, data=(ox, oy)).reshape((x.shape[0], -1))\n\n\n# Simulate data for the prior and true fields\ndata_prior = sim(perm_prior)\ndata_true = sim(perm_true)\ndata_obs = rng.normal(data_true, dstd)\ndata_obs[0, :3] = data_true[0, :3]"
      ]
    },
    {
      "cell_type": "markdown",
      "metadata": {},
      "source": [
        "## Localization Matrix\n\n"
      ]
    },
    {
      "cell_type": "code",
      "execution_count": null,
      "metadata": {
        "collapsed": false
      },
      "outputs": [],
      "source": [
        "# Vector of nd length with the well x and y position for each nd data point\nnd_positions = np.tile(np.array([ox, oy]), time.size).T\n\n# Create matrix\nloc_mat = dageo.localization_matrix(RP.cov, nd_positions, (nx, ny))\n\n# QC localization matrix\nfig, ax = plt.subplots(1, 1, constrained_layout=True)\nim = ax.imshow(loc_mat.sum(axis=2).T/time.size, origin='lower', cmap=\"plasma\")\nax.contour(loc_mat.sum(axis=2).T/time.size, levels=[0.2, ], colors='w')\nax.set_xlabel('x-direction')\nax.set_ylabel('y-direction')\nfor well in wells:\n    ax.plot(well[0], well[1], ['C3v', 'C1^'][int(well[2] == 120)])\nfig.colorbar(im, ax=ax, label=\"Localization Weight (-)\")"
      ]
    },
    {
      "cell_type": "markdown",
      "metadata": {},
      "source": [
        "## ESMDA\n\n"
      ]
    },
    {
      "cell_type": "code",
      "execution_count": null,
      "metadata": {
        "collapsed": false
      },
      "outputs": [],
      "source": [
        "def restrict_permeability(x):\n    \"\"\"Restrict possible permeabilities.\"\"\"\n    np.clip(x, perm_min, perm_max, out=x)\n\n\ninp = {\n    'model_prior': perm_prior,\n    'forward': sim,\n    'data_obs': data_obs,\n    'sigma': dstd,\n    'alphas': 4,\n    'data_prior': data_prior,\n    'callback_post': restrict_permeability,\n    'random': rng,\n}"
      ]
    },
    {
      "cell_type": "markdown",
      "metadata": {},
      "source": [
        "### Without localization\n\n"
      ]
    },
    {
      "cell_type": "code",
      "execution_count": null,
      "metadata": {
        "collapsed": false
      },
      "outputs": [],
      "source": [
        "nl_perm_post, nl_data_post = dageo.esmda(**inp)"
      ]
    },
    {
      "cell_type": "markdown",
      "metadata": {},
      "source": [
        "### With localization\n\n"
      ]
    },
    {
      "cell_type": "code",
      "execution_count": null,
      "metadata": {
        "collapsed": false
      },
      "outputs": [],
      "source": [
        "wl_perm_post, wl_data_post = dageo.esmda(**inp, localization_matrix=loc_mat)"
      ]
    },
    {
      "cell_type": "markdown",
      "metadata": {},
      "source": [
        "## Compare permeabilities\n\n"
      ]
    },
    {
      "cell_type": "code",
      "execution_count": null,
      "metadata": {
        "collapsed": false
      },
      "outputs": [],
      "source": [
        "# Plot posterior\nfig, axs = plt.subplots(\n    1, 3, figsize=(8, 4), sharex=True, sharey=True, constrained_layout=True)\n\npar = {\"vmin\": perm_min, \"vmax\": perm_max, \"origin\": \"lower\"}\n\naxs[0].set_title(\"Prior Mean\")\nim = axs[0].imshow(perm_prior.mean(axis=0).T, **par)\n\n\naxs[1].set_title(\"Post Mean; No localization\")\naxs[1].imshow(nl_perm_post.mean(axis=0).T, **par)\n\naxs[2].set_title(\"Post Mean: Localization\")\naxs[2].imshow(wl_perm_post.mean(axis=0).T, **par)\naxs[2].contour(loc_mat.sum(axis=2).T, levels=[2.0, ], colors=\"w\")\n\nfig.colorbar(im, ax=axs, label=\"Log Permeabilities (mD)\",\n             orientation=\"horizontal\")\n\nfor ax in axs:\n    for well in wells:\n        ax.plot(well[0], well[1], [\"C3v\", \"C1^\"][int(well[2] == 120)])\nfor ax in axs:\n    ax.set_xlabel('x-direction')\naxs[0].set_ylabel('y-direction')"
      ]
    },
    {
      "cell_type": "markdown",
      "metadata": {},
      "source": [
        "## Compare data\n\n"
      ]
    },
    {
      "cell_type": "code",
      "execution_count": null,
      "metadata": {
        "collapsed": false
      },
      "outputs": [],
      "source": [
        "# QC data and priors\nfig, axs = plt.subplots(\n    2, 3, figsize=(8, 5), sharex=True, sharey=True, constrained_layout=True)\nfig.suptitle('Prior and posterior data')\nfor i, ax in enumerate(axs[0, :]):\n    ax.set_title(f\"Well ({ox[i]}; {oy[i]})\")\n    ax.plot(time*24*60*60, data_prior[..., i::3].T, color='.6', alpha=0.5)\n    ax.plot(time*24*60*60, nl_data_post[..., i::3].T, color='C0', alpha=0.5)\n    ax.plot(time*24*60*60, data_obs[0, i::3], 'C3o')\nfor i, ax in enumerate(axs[1, :]):\n    ax.plot(time*24*60*60, data_prior[..., i::3].T, color='.6', alpha=0.5)\n    ax.plot(time*24*60*60, wl_data_post[..., i::3].T, color='C0', alpha=0.5)\n    ax.plot(time*24*60*60, data_obs[0, i::3], 'C3o')\n    ax.set_xlabel(\"Time (s)\")\nfor i, ax in enumerate(axs[:, 0]):\n    ax.set_ylabel(\"Pressure (bar)\")\nfor i, txt in enumerate([\"No l\", \"L\"]):\n    axs[i, 2].yaxis.set_label_position(\"right\")\n    axs[i, 2].set_ylabel(f\"{txt}ocalization\")"
      ]
    },
    {
      "cell_type": "code",
      "execution_count": null,
      "metadata": {
        "collapsed": false
      },
      "outputs": [],
      "source": [
        "dageo.Report()"
      ]
    }
  ],
  "metadata": {
    "kernelspec": {
      "display_name": "Python 3",
      "language": "python",
      "name": "python3"
    },
    "language_info": {
      "codemirror_mode": {
        "name": "ipython",
        "version": 3
      },
      "file_extension": ".py",
      "mimetype": "text/x-python",
      "name": "python",
      "nbconvert_exporter": "python",
      "pygments_lexer": "ipython3",
      "version": "3.12.9"
    }
  },
  "nbformat": 4,
  "nbformat_minor": 0
}