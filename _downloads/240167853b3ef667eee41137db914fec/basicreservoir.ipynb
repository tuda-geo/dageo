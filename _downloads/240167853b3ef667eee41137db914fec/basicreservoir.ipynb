{
  "cells": [
    {
      "cell_type": "code",
      "execution_count": null,
      "metadata": {
        "collapsed": false
      },
      "outputs": [],
      "source": [
        "%matplotlib widget"
      ]
    },
    {
      "cell_type": "markdown",
      "metadata": {},
      "source": [
        "\n# 2D Reservoir ESMDA example\n\nEnsemble Smoother Multiple Data Assimilation (ESMDA) in Reservoir Simulation.\n"
      ]
    },
    {
      "cell_type": "code",
      "execution_count": null,
      "metadata": {
        "collapsed": false
      },
      "outputs": [],
      "source": [
        "import numpy as np\nimport matplotlib.pyplot as plt\n\nimport dageo\n\n# For reproducibility, we instantiate a random number generator with a fixed\n# seed. For production, remove the seed!\nrng = np.random.default_rng(1848)"
      ]
    },
    {
      "cell_type": "markdown",
      "metadata": {},
      "source": [
        "## Model parameters\n\n"
      ]
    },
    {
      "cell_type": "code",
      "execution_count": null,
      "metadata": {
        "collapsed": false
      },
      "outputs": [],
      "source": [
        "# Grid extension\nnx = 30\nny = 25\nnc = nx*ny\n\n# Permeabilities\nperm_mean = 3.0\nperm_min = 0.5\nperm_max = 5.0\n\n# ESMDA parameters\nne = 100                  # Number of ensembles\ndt = np.zeros(10)+0.0001  # Time steps (could be irregular, e.g., increasing!)\ntime = np.r_[0, np.cumsum(dt)]\nnt = time.size\n\n# Assumed sandard deviation of our data\ndstd = 0.5\n\n# Observation location indices (should be well locations)\nox, oy = 1, 1\n\n# Wells (if None, first and last cells are used with pressure 180 and 120)\nwells = None"
      ]
    },
    {
      "cell_type": "markdown",
      "metadata": {},
      "source": [
        "## Create permeability maps for ESMDA\n\nWe will create a set of permeability maps that will serve as our initial\nguess (prior). These maps are generated using a Gaussian random field and are\nconstrained by certain statistical properties.\n\n"
      ]
    },
    {
      "cell_type": "code",
      "execution_count": null,
      "metadata": {
        "collapsed": false
      },
      "outputs": [],
      "source": [
        "# Get the model and ne prior models\nRP = dageo.RandomPermeability(nx, ny, perm_mean, perm_min, perm_max)\nperm_true = RP(1, random=rng)\nperm_prior = RP(ne, random=rng)\n\n\n# QC covariance, reference model, and first two random models\npinp1 = {\"origin\": \"lower\", \"vmin\": perm_min, \"vmax\": perm_max}\nfig, axs = plt.subplots(2, 2, figsize=(6, 6), constrained_layout=True)\naxs[0, 0].set_title(\"Model\")\nim = axs[0, 0].imshow(perm_true.T, **pinp1)\naxs[0, 1].set_title(\"Lower Covariance Matrix\")\nim2 = axs[0, 1].imshow(RP.cov, cmap=\"plasma\")\naxs[1, 0].set_title(\"Random Model 1\")\naxs[1, 0].imshow(perm_prior[0, ...].T, **pinp1)\naxs[1, 1].set_title(\"Random Model 2\")\naxs[1, 1].imshow(perm_prior[1, ...].T, **pinp1)\nfig.colorbar(im, ax=axs[1, :], orientation=\"horizontal\",\n             label=\"Log of Permeability (mD)\")\nfor ax in axs[1, :].ravel():\n    ax.set_xlabel(\"x-direction\")\nfor ax in axs[:, 0].ravel():\n    ax.set_ylabel(\"y-direction\")"
      ]
    },
    {
      "cell_type": "markdown",
      "metadata": {},
      "source": [
        "## Run the prior models and the reference case\n\n"
      ]
    },
    {
      "cell_type": "code",
      "execution_count": null,
      "metadata": {
        "collapsed": false
      },
      "outputs": [],
      "source": [
        "# Instantiate reservoir simulator\nRS = dageo.Simulator(nx, ny, wells=wells)\n\n\ndef sim(x):\n    \"\"\"Custom fct to use exp(x), and specific dt & location.\"\"\"\n    return RS(np.exp(x), dt=dt, data=(ox, oy))\n\n\n# Simulate data for the prior and true fields\ndata_prior = sim(perm_prior)\ndata_true = sim(perm_true)\ndata_obs = rng.normal(data_true, dstd)\n\n# QC data and priors\nfig, ax = plt.subplots(1, 1, constrained_layout=True)\nax.set_title(\"Observed and prior data\")\nax.plot(time*24*60*60, data_prior.T, color=\".6\", alpha=0.5)\nax.plot(time*24*60*60, data_true, \"ko\", label=\"True data\")\nax.plot(time*24*60*60, data_obs, \"C3o\", label=\"Obs. data\")\nax.legend()\nax.set_xlabel(\"Time (s)\")\nax.set_ylabel(\"Pressure (bar)\")"
      ]
    },
    {
      "cell_type": "markdown",
      "metadata": {},
      "source": [
        "## ESMDA\n\n"
      ]
    },
    {
      "cell_type": "code",
      "execution_count": null,
      "metadata": {
        "collapsed": false
      },
      "outputs": [],
      "source": [
        "def restrict_permeability(x):\n    \"\"\"Restrict possible permeabilities.\"\"\"\n    np.clip(x, perm_min, perm_max, out=x)\n\n\nperm_post, data_post = dageo.esmda(\n    model_prior=perm_prior,\n    forward=sim,\n    data_obs=data_obs,\n    sigma=dstd,\n    alphas=4,\n    data_prior=data_prior,\n    callback_post=restrict_permeability,\n    random=rng,\n)"
      ]
    },
    {
      "cell_type": "markdown",
      "metadata": {},
      "source": [
        "## Posterior Analysis\n\nAfter running ESMDA, it's crucial to analyze the posterior ensemble of\nmodels. Here, we visualize the first three realizations from both the prior\nand posterior ensembles to see how the models have been updated.\n\n"
      ]
    },
    {
      "cell_type": "code",
      "execution_count": null,
      "metadata": {
        "collapsed": false
      },
      "outputs": [],
      "source": [
        "# Plot posterior\nfig, ax = plt.subplots(1, 2, figsize=(8, 5), constrained_layout=True)\npinp2 = {\"origin\": \"lower\", \"vmin\": 2.5, \"vmax\": 3.5}\nax[0].set_title(\"Prior Mean\")\nim = ax[0].imshow(perm_prior.mean(axis=0).T, **pinp2)\nax[1].set_title(\"Post Mean\")\nax[1].imshow(perm_post.mean(axis=0).T, **pinp2)\nfig.colorbar(im, ax=ax, label=\"Log of Permeability (mD)\",\n             orientation=\"horizontal\")"
      ]
    },
    {
      "cell_type": "markdown",
      "metadata": {},
      "source": [
        "Observing the monitored pressure at cell (1,1) for all realizations and the\nreference case, we can see that the ensemble of models after the assimilation\nsteps (in blue) is closer to the reference case (in red) than the prior\nensemble (in gray). This indicates that the ESMDA method is effectively\nupdating the models to better represent the observed data.\n\n"
      ]
    },
    {
      "cell_type": "code",
      "execution_count": null,
      "metadata": {
        "collapsed": false
      },
      "outputs": [],
      "source": [
        "# Compare posterior to prior and observed data\nfig, ax = plt.subplots(1, 1, constrained_layout=True)\nax.set_title(\"Prior and posterior data\")\nax.plot(time*24*60*60, data_prior.T, color=\".6\", alpha=0.5)\nax.plot(time*24*60*60, data_post.T, color=\"C0\", alpha=0.5)\nax.plot(time*24*60*60, data_true, \"ko\")\nax.plot(time*24*60*60, data_obs, \"C3o\")\nax.set_xlabel(\"Time (s)\")\nax.set_ylabel(\"Pressure (bar)\")"
      ]
    },
    {
      "cell_type": "code",
      "execution_count": null,
      "metadata": {
        "collapsed": false
      },
      "outputs": [],
      "source": [
        "dageo.Report()"
      ]
    }
  ],
  "metadata": {
    "kernelspec": {
      "display_name": "Python 3",
      "language": "python",
      "name": "python3"
    },
    "language_info": {
      "codemirror_mode": {
        "name": "ipython",
        "version": 3
      },
      "file_extension": ".py",
      "mimetype": "text/x-python",
      "name": "python",
      "nbconvert_exporter": "python",
      "pygments_lexer": "ipython3",
      "version": "3.12.9"
    }
  },
  "nbformat": 4,
  "nbformat_minor": 0
}