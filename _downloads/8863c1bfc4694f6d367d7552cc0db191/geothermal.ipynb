{
  "cells": [
    {
      "cell_type": "code",
      "execution_count": null,
      "metadata": {
        "collapsed": false
      },
      "outputs": [],
      "source": [
        "%matplotlib widget"
      ]
    },
    {
      "cell_type": "markdown",
      "metadata": {},
      "source": [
        "\n# Geothermal Case Study\n\nESMDA example predicting temperature at a production well as a function of\npermeability.\n\nThis example demonstrates the application of the Ensemble Smoother with\nMultiple Data Assimilation (ESMDA) using the ``dageo`` library to predict\ntemperature at a production well in a geothermal reservoir. The notebook\nintegrates the [Delft Advanced Research Terra Simulator (DARTS)](https://darts.citg.tudelft.nl) to model the impact of permeability\nvariations on temperature over a 30-year period. The example uses a channelized\npermeability field, which provides an interesting case study of ESMDA's\nbehavior with non-Gaussian geological features. Since ESMDA operates under\nGaussian assumptions, it tends to create smooth updates to the permeability\nfield rather than maintaining sharp channel boundaries. This limitation becomes\nparticularly visible when the algorithm identifies the need for connectivity\nbetween wells - instead of creating or modifying channels, it increases\npermeability in a more diffuse manner. This behavior highlights both the power\nof ESMDA in matching production data and its limitations in preserving complex\ngeological features.\n\n\n.. tip::\n\n    This example can serve as an example how one can use ``dageo`` with any\n    external modelling code, here with the *Delft Advanced Research Terra\n    Simulator* (DARTS).\n\n    **Thanks to Mona Devos, who provided the initial version of this example!**\n\n\n## Pre-computed data\n\n### DARTS computation\n\nThe DARTS computation in this example takes too long for it to be run\nautomatically on GitHub with every commit for the documentation (CI). We\ntherefore pre-computed the results locally to show them here. You can change\nthe flag ``compute_darts`` from ``False`` to ``True`` to actually compute the\nresults with DARTS yourself. The pre-computed results were generated with the\nfollowing versions (taking roughly 4\u202fh on a single thread):\n\n- open-darts: 1.1.4\n- Python: 3.10.15\n- NumPy: 2.0.2\n- SciPy: 1.14.1\n\n\n### Fluvial models\n\nThe fluvial models were generated with ``FLUVSIM`` through ``geomodpy``, for\nmore information see towards the end of the example where the code is shown to\nreproduce the facies.\n\n\n.. important::\n\n    To retrieve the pre-computed data (for both DARTS and the facies), you need\n    to have ``pooch`` installed:\n\n```bash\npip install pooch\n```\n    or\n\n```bash\nconda install -c conda-forge pooch\n```\n"
      ]
    },
    {
      "cell_type": "code",
      "execution_count": null,
      "metadata": {
        "collapsed": false
      },
      "outputs": [],
      "source": [
        "import pooch\nimport numpy as np\nimport matplotlib.pyplot as plt\n\nimport dageo\n\ncompute_darts = False\nif compute_darts:\n    from darts.engines import redirect_darts_output\n    from darts.models.darts_model import DartsModel\n    from darts.physics.geothermal.physics import Geothermal\n    from darts.reservoirs.struct_reservoir import StructReservoir\n    from darts.physics.geothermal.property_container import PropertyContainer\n\n    redirect_darts_output(\"run_geothermal.log\")\n\n    # For reproducibility, we instantiate a random number generator with a\n    # fixed seed. For production, remove the seed!\n    rng = np.random.default_rng(42)"
      ]
    },
    {
      "cell_type": "markdown",
      "metadata": {},
      "source": [
        "## Load pre-computed data\n\n"
      ]
    },
    {
      "cell_type": "code",
      "execution_count": null,
      "metadata": {
        "collapsed": false
      },
      "outputs": [],
      "source": [
        "folder = \"data\"\nffacies = \"facies_geothermal.npy\"\nfdarts = \"darts_output_geothermal.npz\"\n\n# Load Facies: Not needed if you compute the facies yourself,\n#              as described at the end of the notebook.\nfpfacies = pooch.retrieve(\n    \"https://raw.github.com/tuda-geo/data/2024-11-30/resmda/\"+ffacies,\n    \"9b18f1c80aea93d7973effafde001aa7e72a21ac91edf08e3899d5486998ad2e\",\n    fname=ffacies,\n    path=folder,\n)\nfacies = np.load(fpfacies)\n\n# Load pre-computed DARTS result; only needed if `compute_darts=False`.\nif not compute_darts:\n    fpdarts = pooch.retrieve(\n        \"https://raw.github.com/tuda-geo/data/2024-11-30/resmda/\"+fdarts,\n        \"5622729cd5dc7214de8a199512ace39bda48bff113b2eddb0c48593a57c020d1\",\n        fname=fdarts,\n        path=folder,\n    )\n    pc_darts = np.load(fpdarts)"
      ]
    },
    {
      "cell_type": "markdown",
      "metadata": {},
      "source": [
        "## Convert facies to permeability\n\nHere we define some model parameters. Important: These have obviously to\nagree with the facies you computed!\n\n"
      ]
    },
    {
      "cell_type": "code",
      "execution_count": null,
      "metadata": {
        "collapsed": false
      },
      "outputs": [],
      "source": [
        "# Model parameters\nnx, ny, nz = 60, 60, 3   # 60 x 60 x 3 cells\ndx, dy, dz = 30, 30, 30  # Each cell is a voxel of 30 x 30 x 30 meter\nne = 100                 # 100 ensembles\nyears = np.arange(31)    # Time: we are modelling 30 years:\n\n# Well locations\niw = [30, 30]\njw = [14, 46]\n\n# Minimum and maximum values for permeability\nperm_min = 100.\nperm_max = 200.\n\n# Get permeability fields by populating the facies\nperm = np.zeros(facies.shape)\nperm[facies == 0] = perm_min  # outside channels minimum\nperm[facies > 0] = perm_max   # inside channels maximum\n\n# We use a model with 3 layers, starting all with the same permeability.\nperm = np.stack([perm]*nz, axis=-1)  # 3x the same\n\n# Assign true permeability (first) and prior permeability\nperm_true = perm[:1, :, :, :]\nperm_prior = perm[1:, :, :, :]"
      ]
    },
    {
      "cell_type": "markdown",
      "metadata": {},
      "source": [
        "## Plot \"true\" model\n\nThe true permeability model is the one facies realization we use to create\nobservations by adding noise to the modelled data. These observations are\nwhat we try to match with ESMDA. To look at this permeability field is\nimportant to later interpret the result. In particular, we see that there is\na channel of high permeability connecting the injection with the production\nwell.\n\n"
      ]
    },
    {
      "cell_type": "code",
      "execution_count": null,
      "metadata": {
        "collapsed": false
      },
      "outputs": [],
      "source": [
        "fopts = {\"sharex\": True, \"sharey\": True, \"constrained_layout\": True}\npopts = {\"vmin\": perm_min, \"vmax\": perm_max, \"origin\": \"lower\"}\n\nfig, ax = plt.subplots(figsize=(5, 4), **fopts)\n\n# Permeabilities\nim = ax.imshow(perm_true[0, :, :, 0], **popts)\n\n# Wells\nax.plot(jw[0], iw[0], \"v\", c=\"b\", ms=10, mec=\"w\")\nax.plot(jw[1], iw[1], \"^\", c=\"r\", ms=10, mec=\"w\")\n\n# Labels and colour bar\nax.set_ylabel(\"Y Grid Cell\")\nax.set_xlabel(\"X Grid Cell\")\nfig.suptitle(\n    \"\u00abTrue\u00bb Permeabilities (blue: injection, red: production well)\"\n)\ncbar = fig.colorbar(im, ax=ax, label=\"Permeability (mD)\")"
      ]
    },
    {
      "cell_type": "markdown",
      "metadata": {},
      "source": [
        "## Prior permeabilities\nPlot the first 12 prior permeability models; yellow shows the channels with\nhigher permeability.\n\n"
      ]
    },
    {
      "cell_type": "code",
      "execution_count": null,
      "metadata": {
        "collapsed": false
      },
      "outputs": [],
      "source": [
        "fig, axs = plt.subplots(3, 4, **fopts)\n\nfor i, ax in enumerate(axs.ravel()):\n    ax.set_title(f\"Realization {i+1}\")\n\n    # Permeabilities\n    im = ax.imshow(perm_prior[i, :, :, 0], **popts)\n\n    # Wells\n    ax.plot(jw[0], iw[0], \"v\", c=\"b\", ms=10, mec=\"w\")\n    ax.plot(jw[1], iw[1], \"^\", c=\"r\", ms=10, mec=\"w\")\n\n# Labels and colour bar\nfig.supylabel(\"Y Grid Cell\")\nfig.supxlabel(\"X Grid Cell\")\nfig.suptitle(\n    \"Prior Permeabilities with injection (blue) and production (red) wells\"\n)\ncbar = fig.colorbar(im, ax=axs.ravel(), label=\"Permeability (mD)\")"
      ]
    },
    {
      "cell_type": "markdown",
      "metadata": {},
      "source": [
        "## DARTS-related functionalities\n\n### Custom DARTS Model class\n\nIn the custom ``Model`` class for DARTS we define some fixed parameters\nspecific to this example.\n\n"
      ]
    },
    {
      "cell_type": "code",
      "execution_count": null,
      "metadata": {
        "collapsed": false
      },
      "outputs": [],
      "source": [
        "if compute_darts:\n\n    class Model(DartsModel):\n        \"\"\"Custom DartsModel Class.\"\"\"\n\n        def __init__(self, perm, n_points=128, dx=dx, dy=dy, dz=dz,\n                     iw=iw, jw=jw):\n            \"\"\"Initialize a new DartsModel instance.\"\"\"\n            super().__init__()\n\n            self.timer.node[\"initialization\"].start()\n\n            # Parameters for the reservoir\n            nx, ny, nz = perm.shape\n            nb = perm.size\n\n            self.dx = dx\n            self.dy = dy\n            dz = np.ones(nb) * dz\n\n            perm = perm.flatten(\"F\")\n            poro = np.ones(nb) * 0.2\n\n            # Discretize structured reservoir\n            self.reservoir = StructReservoir(\n                timer=self.timer,\n                nx=nx,\n                ny=ny,\n                nz=nz,\n                dx=self.dx,\n                dy=self.dy,\n                dz=dz,\n                permx=perm,\n                permy=perm,\n                permz=0.1*perm,\n                poro=poro,\n                depth=2000,\n                hcap=2200,\n                rcond=500,\n            )\n\n            # Add open boundaries\n            self.reservoir.boundary_volumes[\"yz_minus\"] = 1e8\n            self.reservoir.boundary_volumes[\"yz_plus\"] = 1e8\n            self.reservoir.boundary_volumes[\"xz_minus\"] = 1e8\n            self.reservoir.boundary_volumes[\"xz_plus\"] = 1e8\n\n            # Add well locations\n            self.iw = iw\n            self.jw = jw\n\n            # Create pre-defined physics for geothermal\n            property_container = PropertyContainer()\n            self.physics = Geothermal(\n                timer=self.timer,\n                n_points=n_points,\n                min_p=1,\n                max_p=351,\n                min_e=1000,\n                max_e=10000,\n                cache=False,\n            )\n            self.physics.add_property_region(property_container)\n            self.physics.init_physics()\n\n            # Timestep parameters\n            self.params.first_ts = 1e-3\n            self.params.mult_ts = 2\n            self.params.max_ts = 365\n\n            # Nonlinear and linear solver tolerance\n            self.params.tolerance_newton = 1e-2\n\n            self.timer.node[\"initialization\"].stop()\n\n        def set_wells(self):\n            \"\"\"Set well parameters.\"\"\"\n            self.reservoir.add_well(\"INJ\")\n            for k in range(1, self.reservoir.nz):\n                self.reservoir.add_perforation(\n                    \"INJ\",\n                    cell_index=(self.iw[0], self.jw[0], k + 1),\n                    well_radius=0.16,\n                    multi_segment=True,\n                )\n\n            # Add well\n            self.reservoir.add_well(\"PRD\")\n            for k in range(1, self.reservoir.nz):\n                self.reservoir.add_perforation(\n                    \"PRD\",\n                    cell_index=(self.iw[1], self.jw[1], k + 1),\n                    well_radius=0.16,\n                    multi_segment=True,\n                )\n\n        def set_initial_conditions(self):\n            \"\"\"Initialization with constant pressure and temperature.\"\"\"\n            self.physics.set_uniform_initial_conditions(\n                self.reservoir.mesh,\n                uniform_pressure=200,\n                uniform_temperature=350,\n            )\n\n        def set_boundary_conditions(self):\n            \"\"\"Activate wells with rate control for injector and producer.\"\"\"\n            for i, w in enumerate(self.reservoir.wells):\n                if \"INJ\" in w.name:\n                    w.control = self.physics.new_rate_water_inj(4000, 300)\n                else:\n                    w.control = self.physics.new_rate_water_prod(4000)"
      ]
    },
    {
      "cell_type": "markdown",
      "metadata": {},
      "source": [
        "### DARTS simulation function\n\nIn order to use an external code with ``dageo``, you have to write a wrapper\nfunction, which\n\n- takes an ndarray of the shape of the prior models ``(ne, ...)``, and\n- returns an ndarray of the shape of the prior data ``(ne, nd)``;\n\n``ne`` is the number of ensembles, ``nd`` the number of data.\n\nIn this case using DARTS, the wrapper function is called\n``temperature_at_production_well`` and takes permeability fields as input,\nand returns temperature (K) at production well as output.\n\n"
      ]
    },
    {
      "cell_type": "code",
      "execution_count": null,
      "metadata": {
        "collapsed": false
      },
      "outputs": [],
      "source": [
        "if compute_darts:\n\n    def temperature_at_production_well(permeabilities, years=years):\n        \"\"\"DARTS function predicting temperature at production well.\"\"\"\n\n        # Pre-allocate output\n        temperature = np.zeros((permeabilities.shape[0], years.size))\n\n        # Loop over permeability fields\n        for i, perm in enumerate(permeabilities):\n\n            # Initialize a DARTS model for this permeability field\n            m = Model(perm=perm)\n            m.init()\n            m.run(1e-3)\n\n            # Run and store every year;\n            # (in future DARTS versions the loop won't be needed).\n            for y in years[1:]:\n                m.run(365, restart_dt=365)\n\n            # Store temperature\n            # (Only taking the last nt samples, because sometimes the first\n            # time step is cut and then repeated in the time_data; if you can\n            # change the time_data to not report cut time-steps, then this may\n            # not be necessary.)\n            temperature[i, :] = np.array(\n                m.physics.engine.time_data[\"PRD : temperature (K)\"]\n            )[-years.size:]\n\n        return temperature"
      ]
    },
    {
      "cell_type": "markdown",
      "metadata": {},
      "source": [
        "## Simulate prior data\n\nHere we simulate \"true\" and prior data, and create \"observed\" data from\nadding random noise to the true data.\n\n"
      ]
    },
    {
      "cell_type": "code",
      "execution_count": null,
      "metadata": {
        "collapsed": false
      },
      "outputs": [],
      "source": [
        "if compute_darts:\n    data_true = temperature_at_production_well(perm_true)\n    data_prior = temperature_at_production_well(perm_prior)\n    # Add noise to the true data and create observed data\n    dstd = 0.2\n    data_obs = rng.normal(data_true, dstd)\nelse:\n    data_true = pc_darts[\"data_true\"].astype(\"d\")\n    data_prior = pc_darts[\"data_prior\"].astype(\"d\")\n    data_obs = pc_darts[\"data_obs\"].astype(\"d\")\n\nk2c = -273.15  # To plot \u00b0C instead of K"
      ]
    },
    {
      "cell_type": "markdown",
      "metadata": {},
      "source": [
        "### Plot prior data\n\nThe prior data show that there seem to be two possible clusters, one having\nslightly higher temperatures than the other. The slightly colder cluster\ncorresponds to the models that have a connecting channel, the slightly warmer\ncluster the models that have no connecting channel.\n\n"
      ]
    },
    {
      "cell_type": "code",
      "execution_count": null,
      "metadata": {
        "collapsed": false
      },
      "outputs": [],
      "source": [
        "fig, ax = plt.subplots()\nax.scatter(years, data_obs+k2c, label=\"Observed\", c=\"r\", zorder=10)\nax.plot(years, data_prior.T+k2c, c=\"grey\", alpha=0.4,\n        label=[\"Prior\"] + [None] * (ne - 1))\nax.legend()\nax.set_xlabel(\"Time (years)\")\nax.set_ylabel(\"Temperature (\u00b0C)\")\nax.set_title(\"Temperature at Production Well\")"
      ]
    },
    {
      "cell_type": "markdown",
      "metadata": {},
      "source": [
        "## Perform Data Assimilation (ESMDA)\n\n"
      ]
    },
    {
      "cell_type": "code",
      "execution_count": null,
      "metadata": {
        "collapsed": false
      },
      "outputs": [],
      "source": [
        "# Define a function to restrict the permeability values\ndef restrict_permeability(x):\n    \"\"\"Restrict possible permeabilities.\"\"\"\n    np.clip(x, perm_min, perm_max, out=x)\n\n\n# Run ESMDA\nif compute_darts:\n    perm_post, data_post = dageo.esmda(\n        model_prior=perm_prior,\n        forward=temperature_at_production_well,\n        data_obs=data_obs,\n        sigma=dstd,\n        alphas=4,\n        data_prior=data_prior,\n        callback_post=restrict_permeability,\n        random=rng,\n    )\n\n    # Store result\n    np.savez_compressed(\n        file=\"darts_output_geothermal.npz\",\n        data_true=data_true.astype(\"f\"),\n        data_obs=data_obs.astype(\"f\"),\n        data_prior=data_prior.astype(\"f\"),\n        data_post=data_post.astype(\"f\"),\n        perm_post=perm_post.astype(\"f\"),\n        allow_pickle=False,\n    )\nelse:\n    data_post = pc_darts[\"data_post\"].astype(\"d\")\n    perm_post = pc_darts[\"perm_post\"].astype(\"d\")"
      ]
    },
    {
      "cell_type": "markdown",
      "metadata": {},
      "source": [
        "### Plot posterior data\n\nModels that connect the injection and production well with higher\npermeability (lower temperature) are the ones which match the data better.\nEven when we originally did not have channels between the injection and\nproduction well, the model found that the best way to match the data is to\nincrease the permeability between the wells.\n\n"
      ]
    },
    {
      "cell_type": "code",
      "execution_count": null,
      "metadata": {
        "collapsed": false
      },
      "outputs": [],
      "source": [
        "fig, ax = plt.subplots()\nax.scatter(years, data_obs+k2c, label=\"Observed\", c=\"r\", zorder=10)\nax.plot(years, data_prior.T+k2c, c=\"grey\", alpha=0.4,\n        label=[\"Prior\"] + [None] * (ne - 1))\nax.plot(years, data_post.T+k2c, c=\"b\",\n        label=[\"Posterior\"] + [None] * (ne - 1))\nax.legend()\nax.set_xlabel(\"Time (years)\")\nax.set_ylabel(\"Temperature (\u00b0C)\")\nax.set_title(\"Temperature at Production Well\")"
      ]
    },
    {
      "cell_type": "markdown",
      "metadata": {},
      "source": [
        "### Plot posterior permeabilities\n\nPlot the first 12 posterior permeability models.\n\nThe data is matched nicely (above figure), yet we still have different\nrealizations, meaning that the posterior does not look like the \"true\" model,\nas expected (ill-posed problem). This means that we still have uncertainty in\nthe model, and also that the ensemble has not collapsed to a single model.\n\n"
      ]
    },
    {
      "cell_type": "code",
      "execution_count": null,
      "metadata": {
        "collapsed": false
      },
      "outputs": [],
      "source": [
        "fig, axs = plt.subplots(3, 4, **fopts)\naxs = axs.ravel()\nfor i in range(min(ne, 12)):\n    im = axs[i].imshow(perm_post[i, :, :, 0], **popts)\n    axs[i].plot(jw[0], iw[0], \"v\", c=\"b\", ms=10, mec=\"w\")\n    axs[i].plot(jw[1], iw[1], \"^\", c=\"r\", ms=10, mec=\"w\")\nfig.colorbar(im, ax=axs, label=\"Permeability (mD)\")\nfig.suptitle(\n    \"Posterior Permeabilities with injection (blue) and production (red) wells\"\n)\nfig.supylabel(\"Y Grid Cell\")\nfig.supxlabel(\"X Grid Cell\")"
      ]
    },
    {
      "cell_type": "markdown",
      "metadata": {},
      "source": [
        "### Plot permeability differences\n\nThe difference between prior and posterior shows nicely that in models, where\nthere is a channel between the injection and production well, not much had to\nchange in terms of permeability to predict the data. In models, however,\nwhere there is no connecting channel, it increased significantly the\npermeability between the wells, and decreased them further out.\n\n"
      ]
    },
    {
      "cell_type": "code",
      "execution_count": null,
      "metadata": {
        "collapsed": false
      },
      "outputs": [],
      "source": [
        "popts = {\"vmin\": -100, \"vmax\": 100, \"origin\": \"lower\", \"cmap\": \"RdBu\"}\nfig, axs = plt.subplots(3, 4, **fopts)\naxs = axs.ravel()\nfor i in range(min(ne, 12)):\n    im = axs[i].imshow(perm_post[i, :, :, 0] - perm_prior[i, :, :, 0], **popts)\n    axs[i].plot(jw[0], iw[0], \"v\", c=\"k\", ms=10, mec=\"w\")\n    axs[i].plot(jw[1], iw[1], \"^\", c=\"w\", ms=10, mec=\"k\")\nfig.colorbar(im, ax=axs, label=\"Permeability difference (mD)\")\nfig.suptitle(\n    \"Permeability differences (black injection, white production well)\"\n)\nfig.supylabel(\"Y Grid Cell\")\nfig.supxlabel(\"X Grid Cell\")"
      ]
    },
    {
      "cell_type": "markdown",
      "metadata": {},
      "source": [
        "## Reproduce the facies\n\n<div class=\"alert alert-info\"><h4>Note</h4><p>The following cell is about how to reproduce the facies data loaded in\n    ``facies_geothermal.nc``. This was created using ``geomodpy``.\n\n    ``geomodpy`` (Guillaume Rongier, 2023) is not open-source yet. The\n    functionality of geomodpy that we use here is a python wrapper for the\n    Fortran library ``FLUVSIM`` published in:\n\n        **Deutsch, C. V., and T. T. Tran**, 2002, FLUVSIM: a program for\n        object-based stochastic modeling of fluvial depositional systems:\n        Computers & Geosciences, 28(4), 525--535.\n\n        DOI: [10.1016/S0098-3004(01)00075-9](https://doi.org/10.1016/S0098-3004(01)00075-9).</p></div>\n\n\n```python\n# FLUVSIM Version used: 2.900\nfrom geomodpy.wrapper.fluvsim import FLUVSIM\n\n# Dimensions\nnx, ny = 60, 60\ndx, dy = 30, 30\nne = 100\n\n# Create a fluvsim instance with the geological parameters\nfluvsim = FLUVSIM(\n    channel_orientation=(60., 90., 120.),\n    # Proportions for each facies\n    channel_prop=0.5,\n    crevasse_prop=0.0,\n    levee_prop=0.0,\n    # Parameters defining the grid\n    shape=(nx, ny),\n    spacing=(dx, dy),\n    origin=(0, 0),\n    # Number of realizations and random seed\n    n_realizations=ne+1,  # +1 for \"true\"\n    seed=42,\n)\n\n# Run fluvsim to create the facies\nfacies = fluvsim.run()\nfacies = facies.data_vars[\"facies code\"].values.astype(\"i4\")\n\n# Save the facies values as a compressed npy-file.\nnp.save(\"facies_geothermal.npy\", facies.squeeze(), allow_pickle=False)\n```\n"
      ]
    },
    {
      "cell_type": "code",
      "execution_count": null,
      "metadata": {
        "collapsed": false
      },
      "outputs": [],
      "source": [
        "dageo.Report()"
      ]
    }
  ],
  "metadata": {
    "kernelspec": {
      "display_name": "Python 3",
      "language": "python",
      "name": "python3"
    },
    "language_info": {
      "codemirror_mode": {
        "name": "ipython",
        "version": 3
      },
      "file_extension": ".py",
      "mimetype": "text/x-python",
      "name": "python",
      "nbconvert_exporter": "python",
      "pygments_lexer": "ipython3",
      "version": "3.12.9"
    }
  },
  "nbformat": 4,
  "nbformat_minor": 0
}