{
  "cells": [
    {
      "cell_type": "code",
      "execution_count": null,
      "metadata": {
        "collapsed": false
      },
      "outputs": [],
      "source": [
        "%matplotlib widget"
      ]
    },
    {
      "cell_type": "markdown",
      "metadata": {},
      "source": [
        "\n# 2D Fluvial Reservoir ESMDA example\n\nThis example uses fluvial models containing different facies.\n\nThis in contrast to the basic reservoir example\n`sphx_glr_gallery_basicreservoir.py`, where a single facies was used. The\nexample also compares the use of ESMDA with and without localization, as\nexplained in the example `sphx_glr_gallery_localization.py`.\n\nThe fluvial models were generated with ``FLUVSIM`` through ``geomodpy``, for\nmore information see towards the end of the example where the code is shown to\nreproduce the facies.\n\n<div class=\"alert alert-info\"><h4>Note</h4><p>To retrieve the data, you need to have ``pooch`` installed:\n\n```bash\npip install pooch\n```\n    or\n\n```bash\nconda install -c conda-forge pooch</p></div>\n```\n"
      ]
    },
    {
      "cell_type": "code",
      "execution_count": null,
      "metadata": {
        "collapsed": false
      },
      "outputs": [],
      "source": [
        "import json\n\nimport pooch\nimport numpy as np\nimport matplotlib.pyplot as plt\n\nimport dageo\n\n# For reproducibility, we instantiate a random number generator with a fixed\n# seed. For production, remove the seed!\nrng = np.random.default_rng(1513)"
      ]
    },
    {
      "cell_type": "markdown",
      "metadata": {},
      "source": [
        "## Load and plot the facies\n\n"
      ]
    },
    {
      "cell_type": "code",
      "execution_count": null,
      "metadata": {
        "collapsed": false
      },
      "outputs": [],
      "source": [
        "folder = \"data\"\nffacies = \"facies.npy\"\nfinput = \"facies.json\"\nfpfacies = pooch.retrieve(\n    \"https://raw.github.com/tuda-geo/data/2024-06-18/resmda/\"+ffacies,\n    \"4bfe56c836bf17ca63453c37e5da91cb97bbef8cc6c08d605f70bd64fe7488b2\",\n    fname=ffacies,\n    path=folder,\n)\nfacies = np.load(fpfacies)\nne, nx, ny = facies.shape\n\n# Define mean permeability per facies\nperm_means = [0.1, 5.0, 3.0]\n\n# Plot the facies\nfig, axs = plt.subplots(\n    2, 5, figsize=(8, 3), sharex=True, sharey=True, constrained_layout=True)\naxs = axs.ravel()\nfig.suptitle(f\"Facies {[f'{i} = {p}' for i, p in enumerate(perm_means)]}\")\nfor i in range(ne):\n    im = axs[i].imshow(\n        facies[i, ...], cmap=plt.get_cmap(\"Accent\", 3),\n        clim=[-0.5, 2.5], origin=\"lower\"\n    )\nfig.colorbar(im, ax=axs, ticks=[0, 1, 2], label=\"Facies code\")"
      ]
    },
    {
      "cell_type": "markdown",
      "metadata": {},
      "source": [
        "## Assign random permeabilities to the facies\n\n"
      ]
    },
    {
      "cell_type": "code",
      "execution_count": null,
      "metadata": {
        "collapsed": false
      },
      "outputs": [],
      "source": [
        "perm_min = 0.05\nperm_max = 10.0\n\n# Instantiate a random permeability instance\nRP = dageo.RandomPermeability(\n    nx, ny, perm_mean=None, perm_min=perm_min, perm_max=perm_max\n)\n\n# Fill the different facies with their permeabilities\npermeabilities = np.empty(facies.shape)\nfor code, mean in enumerate(perm_means):\n    mask = facies == code\n    permeabilities[mask] = RP(ne, perm_mean=mean)[mask]\n\nfig, axs = plt.subplots(\n    2, 5, figsize=(8, 3), sharex=True, sharey=True, constrained_layout=True)\naxs = axs.ravel()\nfig.suptitle(\"Permeabilities\")\nfor i in range(ne):\n    im = axs[i].imshow(permeabilities[i, ...], origin=\"lower\")\nfig.colorbar(im, ax=axs, label=\"Log Permeability (mD)\")"
      ]
    },
    {
      "cell_type": "markdown",
      "metadata": {},
      "source": [
        "## Model parameters\n\n"
      ]
    },
    {
      "cell_type": "code",
      "execution_count": null,
      "metadata": {
        "collapsed": false
      },
      "outputs": [],
      "source": [
        "# We take the first model as \"true/reference\", and the other for ESMDA.\nperm_true = permeabilities[0, ...][None, ...]\nperm_prior = permeabilities[1:, ...]\n\n# Time steps\ndt = np.zeros(10)+0.0001\ntime = np.r_[0, np.cumsum(dt)]\nnt = time.size\n\n# Assumed standard deviation of our data\ndstd = 0.5\n\n# Measurement points\nox = (5, 15, 24)\noy = (5, 10, 24)\n\n# Number of data points\nnd = time.size * len(ox)\n\n# Wells\nwells = np.array([\n    [ox[0], oy[0], 180], [5, 12, 120],\n    [ox[1], oy[1], 180], [20, 5, 120],\n    [ox[2], oy[2], 180], [24, 17, 120]\n])"
      ]
    },
    {
      "cell_type": "markdown",
      "metadata": {},
      "source": [
        "## Run the prior models and the reference case\n\n"
      ]
    },
    {
      "cell_type": "code",
      "execution_count": null,
      "metadata": {
        "collapsed": false
      },
      "outputs": [],
      "source": [
        "# Instantiate reservoir simulator\nRS = dageo.Simulator(nx, ny, wells=wells)\n\n\ndef sim(x):\n    \"\"\"Custom fct to use exp(x), and specific dt & location.\"\"\"\n    return RS(np.exp(x), dt=dt, data=(ox, oy)).reshape((x.shape[0], -1))\n\n\n# Simulate data for the prior and true fields\ndata_prior = sim(perm_prior)\ndata_true = sim(perm_true)\ndata_obs = rng.normal(data_true, dstd)\ndata_obs[0, :3] = data_true[0, :3]"
      ]
    },
    {
      "cell_type": "markdown",
      "metadata": {},
      "source": [
        "## Localization Matrix\n\n"
      ]
    },
    {
      "cell_type": "code",
      "execution_count": null,
      "metadata": {
        "collapsed": false
      },
      "outputs": [],
      "source": [
        "# Vector of nd length with the well x and y position for each nd data point\nnd_positions = np.tile(np.array([ox, oy]), time.size).T\n\n# Create matrix\nloc_mat = dageo.localization_matrix(RP.cov, nd_positions, (nx, ny))"
      ]
    },
    {
      "cell_type": "markdown",
      "metadata": {},
      "source": [
        "## ESMDA\n\n"
      ]
    },
    {
      "cell_type": "code",
      "execution_count": null,
      "metadata": {
        "collapsed": false
      },
      "outputs": [],
      "source": [
        "def restrict_permeability(x):\n    \"\"\"Restrict possible permeabilities.\"\"\"\n    np.clip(x, perm_min, perm_max, out=x)\n\n\ninp = {\n    \"model_prior\": perm_prior,\n    \"forward\": sim,\n    \"data_obs\": data_obs,\n    \"sigma\": dstd,\n    \"alphas\": 4,\n    \"data_prior\": data_prior,\n    \"callback_post\": restrict_permeability,\n    \"random\": rng,\n}"
      ]
    },
    {
      "cell_type": "markdown",
      "metadata": {},
      "source": [
        "### Without localization\n\n"
      ]
    },
    {
      "cell_type": "code",
      "execution_count": null,
      "metadata": {
        "collapsed": false
      },
      "outputs": [],
      "source": [
        "nl_perm_post, nl_data_post = dageo.esmda(**inp)"
      ]
    },
    {
      "cell_type": "markdown",
      "metadata": {},
      "source": [
        "### With localization\n\n"
      ]
    },
    {
      "cell_type": "code",
      "execution_count": null,
      "metadata": {
        "collapsed": false
      },
      "outputs": [],
      "source": [
        "wl_perm_post, wl_data_post = dageo.esmda(**inp, localization_matrix=loc_mat)"
      ]
    },
    {
      "cell_type": "markdown",
      "metadata": {},
      "source": [
        "## Compare permeabilities\n\n"
      ]
    },
    {
      "cell_type": "code",
      "execution_count": null,
      "metadata": {
        "collapsed": false
      },
      "outputs": [],
      "source": [
        "# Plot posterior\nfig, axs = plt.subplots(\n    1, 3, figsize=(8, 4), sharex=True, sharey=True, constrained_layout=True)\n\npar = {\"vmin\": perm_min, \"vmax\": perm_max, \"origin\": \"lower\"}\n\naxs[0].set_title(\"Prior Mean\")\nim = axs[0].imshow(perm_prior.mean(axis=0).T, **par)\n\n\naxs[1].set_title(\"Post Mean; No localization\")\naxs[1].imshow(nl_perm_post.mean(axis=0).T, **par)\n\naxs[2].set_title(\"Post Mean: Localization\")\naxs[2].imshow(wl_perm_post.mean(axis=0).T, **par)\naxs[2].contour(loc_mat.sum(axis=2).T, levels=[2.0, ], colors=\"w\")\n\nfig.colorbar(im, ax=axs, label=\"Log Permeabilities (mD)\",\n             orientation=\"horizontal\")\n\nfor ax in axs:\n    for well in wells:\n        ax.plot(well[0], well[1], [\"C3v\", \"C1^\"][int(well[2] == 120)])\nfor ax in axs:\n    ax.set_xlabel('x-direction')\naxs[0].set_ylabel('y-direction')"
      ]
    },
    {
      "cell_type": "markdown",
      "metadata": {},
      "source": [
        "## Compare data\n\n"
      ]
    },
    {
      "cell_type": "code",
      "execution_count": null,
      "metadata": {
        "collapsed": false
      },
      "outputs": [],
      "source": [
        "# QC data and priors\nfig, axs = plt.subplots(\n    2, 3, figsize=(8, 5), sharex=True, sharey=True, constrained_layout=True)\nfig.suptitle(\"Prior and posterior data\")\nfor i, ax in enumerate(axs[0, :]):\n    ax.set_title(f\"Well ({ox[i]}; {oy[i]})\")\n    ax.plot(time*24*60*60, data_prior[..., i::3].T, color=\".6\", alpha=0.5)\n    ax.plot(time*24*60*60, nl_data_post[..., i::3].T, color=\"C0\", alpha=0.5)\n    ax.plot(time*24*60*60, data_obs[0, i::3], \"C3o\")\nfor i, ax in enumerate(axs[1, :]):\n    ax.plot(time*24*60*60, data_prior[..., i::3].T, color=\".6\", alpha=0.5)\n    ax.plot(time*24*60*60, wl_data_post[..., i::3].T, color=\"C0\", alpha=0.5)\n    ax.plot(time*24*60*60, data_obs[0, i::3], \"C3o\")\n    ax.set_xlabel(\"Time (s)\")\nfor i, ax in enumerate(axs[:, 0]):\n    ax.set_ylabel(\"Pressure (bar)\")\nfor i, txt in enumerate([\"No l\", \"L\"]):\n    axs[i, 2].yaxis.set_label_position(\"right\")\n    axs[i, 2].set_ylabel(f\"{txt}ocalization\")"
      ]
    },
    {
      "cell_type": "markdown",
      "metadata": {},
      "source": [
        "## Reproduce the facies\n\n<div class=\"alert alert-info\"><h4>Note</h4><p>The following cell is about how to reproduce the facies data loaded in\n    ``facies.npy``. This was created using ``geomodpy``.\n\n    ``geomodpy`` (Guillaume Rongier, 2023) is not open-source yet. The\n    functionality of geomodpy that we use here is a python wrapper for the\n    Fortran library ``FLUVSIM`` published in:\n\n        **Deutsch, C. V., and T. T. Tran**, 2002, FLUVSIM: a program for\n        object-based stochastic modeling of fluvial depositional systems:\n        Computers & Geosciences, 28(4), 525--535.\n\n        DOI: [10.1016/S0098-3004(01)00075-9](https://doi.org/10.1016/S0098-3004(01)00075-9).</p></div>\n\n\n```python\n# ==== Required imports ====\nimport json\nimport numpy as np\n\n# FLUVSIM Version used: 2.900\nfrom geomodpy.wrapper.fluvsim import FLUVSIM\n\n# For reproducibility, we instantiate a random number generator with a\n# fixed seed. For production, remove the seed!\nrng = np.random.default_rng(1848)\n\n\n# ==== Define the geological parameters ====\n\n# Here we define the geological parameters by means of their normal\n# distribution parameters\n\n# Each tuple stands for (mean, std); lists contain several of them.\ngeol_distributions = {\n    \"channel_orientation\": (60, 20),\n    \"channel_amplitude\": [(100, 1), (250, 1), (400, 1)],\n    \"channel_wavelength\": [(1000, 5), (2000, 5), (3000, 5)],\n    \"channel_thickness\": [(4, 0.1), (8, 0.1), (11, 0.1)],\n    \"channel_thickness_undulation\": (1, 0.02),\n    \"channel_thickness_undulation_wavelength\": [\n        (250, 1), (400, 1), (450, 1)\n    ],\n    \"channel_width_thickness_ratio\": [(40, 0.5), (50, 0.5), (60, 0.5)],\n    \"channel_width_undulation\": (1, 0.02),\n    \"channel_width_undulation_wavelength\": (250, 1),\n    \"channel_prop\": (0.4, 0.005),\n}\n\n\ndef generate_geol_params(geol_dists):\n    \"\"\"Generate geological parameters from normal distributions.\n\n    Expects for each parameter a tuple of two values, or a list\n    containing tuples of two values each.\n    \"\"\"\n    geol_params = {}\n    for param, dist in geol_dists.items():\n        if isinstance(dist, list):\n            geol_params[param] = tuple(\n                rng.normal(mean, std) for mean, std in dist\n            )\n        else:\n            geol_params[param] = rng.normal(*dist)\n    return geol_params\n\n\n# ==== Create the facies ====\n\n# Number of sets and realizations\nnsets = 2\nnreal = 5\n\n# Model dimension\nnx, ny, nz = 64, 64, 1\n\n# Pre-allocate containers to store all realizations and their\n# corresponding parameters\nall_params = {}\nfacies = np.zeros((nsets * nreal, nz, nx, ny), dtype=\"i4\")\n\nfor i in range(nsets):  # We create two sets\n    print(f\"Generating realization {i+1} of {nsets}\")\n\n    params = generate_geol_params(geol_distributions)\n    all_params[f\"set-{i}\"] = params\n\n    fluvsim = FLUVSIM(\n        shape=(nx, ny, nz),\n        spacing=(50, 50, 1),\n        origin=(25, 25, 0.5),\n        n_realizations=nreal,\n        **params\n    )\n\n    realizations = fluvsim.run().data_vars[\"facies code\"].values\n    facies[i*nreal:(i+1)*nreal, ...] = realizations.astype(\"i4\")\n\n\n# ==== Save the outputs ====\n\n# Save the input parameters to FLUVSIM as a json.\nwith open(\"facies.json\", \"w\") as f:\n    json.dump(all_params, f, indent=2)\n# Save the facies values as a compressed npy-file.\nnp.save(\"facies.npy\", facies.squeeze(), allow_pickle=False)\n```\n"
      ]
    },
    {
      "cell_type": "markdown",
      "metadata": {},
      "source": [
        "## Input parameters to ``FLUVSIM``\nFor reproducibility purposes we print here the used input values to FLUVSIM.\nThese are, just as the data themselves, online at\nhttps://github.com/tuda-geo/data/resmda.\n\n"
      ]
    },
    {
      "cell_type": "code",
      "execution_count": null,
      "metadata": {
        "collapsed": false
      },
      "outputs": [],
      "source": [
        "fpinput = pooch.retrieve(\n    \"https://raw.github.com/tuda-geo/data/2024-06-18/resmda/\"+finput,\n    \"db2cb8a620775c68374c24a4fa811f6350381c7fc98a823b9571136d307540b4\",\n    fname=finput,\n    path=folder,\n)\nwith open(fpinput, \"r\") as f:\n    print(json.dumps(json.load(f), indent=2))"
      ]
    },
    {
      "cell_type": "code",
      "execution_count": null,
      "metadata": {
        "collapsed": false
      },
      "outputs": [],
      "source": [
        "dageo.Report()"
      ]
    }
  ],
  "metadata": {
    "kernelspec": {
      "display_name": "Python 3",
      "language": "python",
      "name": "python3"
    },
    "language_info": {
      "codemirror_mode": {
        "name": "ipython",
        "version": 3
      },
      "file_extension": ".py",
      "mimetype": "text/x-python",
      "name": "python",
      "nbconvert_exporter": "python",
      "pygments_lexer": "ipython3",
      "version": "3.12.9"
    }
  },
  "nbformat": 4,
  "nbformat_minor": 0
}